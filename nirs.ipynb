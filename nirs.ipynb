{
 "cells": [
  {
   "cell_type": "code",
   "execution_count": 1,
   "metadata": {
    "id": "zrHVh5_vL4a5"
   },
   "outputs": [
    {
     "name": "stderr",
     "output_type": "stream",
     "text": [
      "���⥬� �� 㤠���� ���� 㪠����� ����.\n",
      "���⥬� �� 㤠���� ���� 㪠����� ����.\n"
     ]
    }
   ],
   "source": [
    "%pip install pytorch-lightning > /dev/null\n",
    "%pip install yfinance > /dev/null\n",
    "%pip install tqdm numpy pandas pytorch matplotlib"
   ]
  },
  {
   "cell_type": "code",
   "execution_count": 2,
   "metadata": {
    "id": "taohqukkzSV4"
   },
   "outputs": [
    {
     "ename": "ModuleNotFoundError",
     "evalue": "No module named 'torch'",
     "output_type": "error",
     "traceback": [
      "\u001b[1;31m---------------------------------------------------------------------------\u001b[0m",
      "\u001b[1;31mModuleNotFoundError\u001b[0m                       Traceback (most recent call last)",
      "Cell \u001b[1;32mIn[2], line 6\u001b[0m\n\u001b[0;32m      3\u001b[0m \u001b[39mimport\u001b[39;00m \u001b[39mos\u001b[39;00m\n\u001b[0;32m      4\u001b[0m \u001b[39mfrom\u001b[39;00m \u001b[39mitertools\u001b[39;00m \u001b[39mimport\u001b[39;00m islice\n\u001b[1;32m----> 6\u001b[0m \u001b[39mimport\u001b[39;00m \u001b[39mtorch\u001b[39;00m\n\u001b[0;32m      7\u001b[0m \u001b[39mfrom\u001b[39;00m \u001b[39mtorch\u001b[39;00m \u001b[39mimport\u001b[39;00m nn\n\u001b[0;32m      8\u001b[0m \u001b[39mfrom\u001b[39;00m \u001b[39mtorch\u001b[39;00m\u001b[39m.\u001b[39;00m\u001b[39mnn\u001b[39;00m \u001b[39mimport\u001b[39;00m functional \u001b[39mas\u001b[39;00m F\n",
      "\u001b[1;31mModuleNotFoundError\u001b[0m: No module named 'torch'"
     ]
    }
   ],
   "source": [
    "from collections import namedtuple, deque, Counter, defaultdict\n",
    "import random\n",
    "import os\n",
    "from itertools import islice\n",
    "\n",
    "import torch\n",
    "from torch import nn\n",
    "from torch.nn import functional as F\n",
    "from torch.utils.data import DataLoader, Dataset\n",
    "from torch.utils.data import random_split\n",
    "import pytorch_lightning as pl\n",
    "\n",
    "\n",
    "from IPython.display import display\n",
    "import matplotlib.pyplot as plt\n",
    "# from google.colab import files\n",
    "import numpy as np\n",
    "import pandas as pd\n",
    "from tqdm import tqdm\n",
    "import yfinance as fin"
   ]
  },
  {
   "cell_type": "code",
   "execution_count": null,
   "metadata": {
    "id": "ZKCwgeiXA8jw"
   },
   "outputs": [],
   "source": [
    "# from google.colab import drive\n",
    "# drive.mount('/content/drive')"
   ]
  },
  {
   "cell_type": "code",
   "execution_count": null,
   "metadata": {
    "id": "WgLIszcHnY1H"
   },
   "outputs": [],
   "source": [
    "!git clone https://github.com/linearbaby/praktika-datafiles.git praktika"
   ]
  },
  {
   "cell_type": "code",
   "execution_count": null,
   "metadata": {
    "id": "fDP_DKTanzCn"
   },
   "outputs": [],
   "source": [
    "# путь до клонированных артифактов моделек с гита\n",
    "artifacts_path = \"/content/praktika/\""
   ]
  },
  {
   "cell_type": "code",
   "execution_count": null,
   "metadata": {
    "id": "NztEXFiDe9k3"
   },
   "outputs": [],
   "source": [
    "# Внешняя LSTM, которая занимается тем, что предсказывает будущее значение цены \n",
    "# исходя из короткого окна торговли.\n",
    "LSTM_hidden = 256\n",
    "LSTM_feature_size = 19 # one hot encoded log values\n",
    "LSTM_seq_len = 20\n",
    "LSTM_batch_size = 32\n",
    "\n",
    "LSTM_tickers = [\"META\", \"AAPL\", \"NFLX\", \"GOOGL\", \"MSFT\", \"AMZN\", \"NVDA\", \"AMD\", \"TSLA\"]\n",
    "LSTM_period = \"7y\"\n",
    "\n",
    "# место, куда будут сохраняться чекпоинты моделек, можно переопределить, чтобы потом их сохранить\n",
    "# model_checkpoint_path = 'drive/MyDrive/data_for_ANN_ML/praktika/checkpoints/'\n",
    "model_checkpoint_path = '/tmp/'\n",
    "general_lstm_checkpoint = artifacts_path + 'epoch=60-step=26901.ckpt'"
   ]
  },
  {
   "cell_type": "code",
   "execution_count": null,
   "metadata": {
    "id": "x4kRDmLyGbAQ"
   },
   "outputs": [],
   "source": [
    "# Эти переменные отвечают за параметры LSTM сети (DRQN), которая используется в агенте,\n",
    "# для совершения действий в окружении.\n",
    "\n",
    "seq_len = 62 # last 2 months are used for sequencing data for DQRN\n",
    "time_features = 5 # dimensionality of time features\n",
    "num_features = LSTM_feature_size + LSTM_feature_size  # dimensionality of features for DRQN input\n",
    "hidden_size = 256\n",
    "action_space_size = 3 # size of action space\n",
    "batch_size = 16\n",
    "policy_to_target_step = 1500 # frequency of target net updating\n",
    "\n",
    "#  v    v   v          v    v  \n",
    "# AAPL AMD AMZN GOOGL META MSFT XOM \n",
    "# 3y   3y  4y   3y    4y   2y   8y\n",
    "\n",
    "# train/eval stage specific variables\n",
    "ticker = \"LRCX\"\n",
    "period = \"4y\"\n",
    "features = ['Open', 'High', 'Low', 'Close', 'Volume']\n",
    "discount = 0.8\n",
    "initial_sum = 1000000\n",
    "\n",
    "trading_size = 100000 # Оставил его как вариант для тренировки, так как моя\n",
    "# дописанная опция может дестабилизировать обучение. Выбрать использовать его\n",
    "# или нет, можно при вызове Environment\n",
    "action_space = [-1, 0, 1]\n",
    "device = 'cuda:0'\n",
    "\n",
    "np.random.seed(42)"
   ]
  },
  {
   "cell_type": "code",
   "execution_count": null,
   "metadata": {
    "id": "Ipad4s0dzPBA"
   },
   "outputs": [],
   "source": [
    "test_size = 0.2"
   ]
  },
  {
   "cell_type": "markdown",
   "metadata": {
    "id": "_8oUhq8FRoZN"
   },
   "source": [
    "### NN Definintion 🧠"
   ]
  },
  {
   "cell_type": "code",
   "execution_count": null,
   "metadata": {
    "id": "4oCPvnWMzd7k"
   },
   "outputs": [],
   "source": [
    "class DRQN(nn.Module):\n",
    "  def __init__(self, input_size=num_features, hidden_size=hidden_size, output_size=action_space_size, seq_len=seq_len):\n",
    "    super(DRQN, self).__init__()\n",
    "    self.hidden_size = hidden_size\n",
    "    self.output_size = output_size\n",
    "    self.input_size = input_size\n",
    "    self.seq_len = seq_len\n",
    "\n",
    "    # stacked linear layers as base aproximators\n",
    "    self.FCNN = nn.Sequential(\n",
    "        nn.Linear(input_size, hidden_size),\n",
    "        nn.ELU(),\n",
    "        nn.Linear(hidden_size, hidden_size),\n",
    "        nn.ELU(),\n",
    "    )\n",
    "    # в данном месте можно попробовать использовать GRU или другие sequence апроксиматоры\n",
    "    self.rnn = nn.LSTM(hidden_size, hidden_size, batch_first=True)\n",
    "    self.out = nn.Linear(hidden_size, output_size)\n",
    "\n",
    "  def forward(self, input):\n",
    "    output = self.FCNN(input)\n",
    "    h, h_last = self.rnn(output)\n",
    "    h_last = h_last[0]\n",
    "\n",
    "    # output = h_last\n",
    "    # dot product attention applied \n",
    "    out = torch.matmul(h, h_last.squeeze().unsqueeze(-1))\n",
    "    a_t = nn.functional.softmax(out, -2)\n",
    "    a_t = a_t.squeeze().unsqueeze(-2)\n",
    "    output = torch.matmul(a_t, h)\n",
    "\n",
    "    return self.out(output.squeeze())"
   ]
  },
  {
   "cell_type": "markdown",
   "metadata": {
    "id": "_JVDhsmEuIMb"
   },
   "source": [
    "### Replay memory ⏪"
   ]
  },
  {
   "cell_type": "code",
   "execution_count": null,
   "metadata": {
    "id": "3mD6yqJSM3J0"
   },
   "outputs": [],
   "source": [
    "Transition = namedtuple('Transition',\n",
    "                        ('state', 'action', 'next_state', 'reward'))\n",
    "\n",
    "\n",
    "class ReplayMemory(object):\n",
    "\n",
    "    def __init__(self, capacity):\n",
    "        self.memory = deque([],maxlen=capacity)\n",
    "\n",
    "    def push(self, *args):\n",
    "        \"\"\"Save a transition\"\"\"\n",
    "        self.memory.append(Transition(*args))\n",
    "\n",
    "    def sample(self, batch_size):\n",
    "        return random.sample(self.memory, batch_size)\n",
    "\n",
    "    def __len__(self):\n",
    "        return len(self.memory)"
   ]
  },
  {
   "cell_type": "markdown",
   "metadata": {
    "id": "uhqaCMxlSHiT"
   },
   "source": [
    "### Agent definition 👷"
   ]
  },
  {
   "cell_type": "code",
   "execution_count": null,
   "metadata": {
    "id": "Q_cAL96hSMhH"
   },
   "outputs": [],
   "source": [
    "class Agent():\n",
    "  def __init__(self, action_space_size=action_space_size, batch_size=16):\n",
    "    self.memory = ReplayMemory(10000)\n",
    "    self.is_eval = False\n",
    "    self.action_space_size = action_space_size\n",
    "\n",
    "    self.gamma = 0.99\n",
    "    self.epsilon = 0.1\n",
    "    self.eps_start = 0.99\n",
    "    self.eps_decay = 200\n",
    "    self.eps_end = 0.05\n",
    "    self.steps_done = 0\n",
    "    self.batch_size = batch_size\n",
    "    self.eval = False\n",
    "    \n",
    "    self.policy_net = DRQN().to(device)\n",
    "    self.target_net = DRQN().to(device)\n",
    "    self.target_net.load_state_dict(self.policy_net.state_dict())\n",
    "    self.target_net.eval()\n",
    "\n",
    "    self.criterion =  nn.SmoothL1Loss()\n",
    "    self.optimizer = torch.optim.RMSprop(self.policy_net.parameters(), lr=0.0001)\n",
    "\n",
    "    scheduler = lambda epoch: 0.96 ** epoch + 0.01 # 97 can be propriate value\n",
    "    self.opt_scheduler = torch.optim.lr_scheduler.LambdaLR(self.optimizer, lr_lambda=scheduler)\n",
    "\n",
    "  def act(self, state):\n",
    "    ''' \n",
    "    this step is dedicated for taking a decision about what action to be taken\n",
    "    in this state of environment. The decision is made with epsilon-greedy \n",
    "    behavior, when epsilon value is exponentially decaing\n",
    "    '''\n",
    "    if self.eval:  # случай, когда мы получаем, только значение от нейронки, без eps greedy\n",
    "      options = self.policy_net(state)\n",
    "      # возвращается (action: int, confidence: float64)\n",
    "      return np.argmax(options.to('cpu').detach().numpy(), axis=0), np.max(torch.nn.functional.softmax(options / options.std(), dim=0).to('cpu').detach().numpy())\n",
    "\n",
    "    # иначе, по eps greedy ищем максимально подходящий результат\n",
    "    eps_threshold = self.eps_end + (self.eps_start - self.eps_end) * \\\n",
    "      np.exp(-1. * self.steps_done / self.eps_decay)\n",
    "    self.steps_done += 1\n",
    "    if np.random.rand() > eps_threshold:\n",
    "      options = self.policy_net(state)\n",
    "      # возвращается (action: int, confidence: float64)\n",
    "      return np.argmax(options.to('cpu').detach().numpy(), axis=0), np.max(torch.nn.functional.softmax(options / options.std(), dim=0).to('cpu').detach().numpy())\n",
    "    else:\n",
    "      # возвращается (action: int, confidence: float64)\n",
    "      return np.random.randint(0, self.action_space_size), np.random.random()\n",
    "\n",
    "  def set_decay(self, decay):\n",
    "    self.eps_decay = decay\n",
    "\n",
    "  def set_eval(self, eval_state: bool):\n",
    "    self.eval = eval_state\n",
    "\n",
    "  def store(self, state, action, new_state, reward):\n",
    "    self.memory.push(state, action, new_state, reward)\n",
    "  \n",
    "  def policy_to_target(self):\n",
    "    self.target_net.load_state_dict(self.policy_net.state_dict())\n",
    "     \n",
    "  def optimize(self):\n",
    "    if len(self.memory) < self.batch_size:\n",
    "        return\n",
    "    transitions = self.memory.sample(self.batch_size)\n",
    "    # Transpose the batch (see https://stackoverflow.com/a/19343/3343043 for\n",
    "    # detailed explanation). This converts batch-array of Transitions\n",
    "    # to Transition of batch-arrays.\n",
    "    batch = Transition(*zip(*transitions))\n",
    "\n",
    "    state_batch = torch.stack(batch.state).to(device)\n",
    "    action_batch = torch.tensor(batch.action).to(device)\n",
    "    reward_batch = torch.tensor(batch.reward).to(device)\n",
    "    next_state_batch = torch.stack(batch.next_state).to(device)\n",
    "\n",
    "    # Compute Q(s_t, a) - the model computes Q(s_t), then we select the\n",
    "    # columns of actions taken. These are the actions which would've been taken\n",
    "    # for each batch state according to policy_net\n",
    "    state_action_values = self.policy_net(state_batch).gather(1, action_batch.unsqueeze(1))\n",
    "\n",
    "    # Compute V(s_{t+1}) for all next states.\n",
    "    # Expected values of actions for non_final_next_states are computed based\n",
    "    # on the \"older\" target_net; selecting their best reward with max(1)[0].\n",
    "    # This is merged based on the mask, such that we'll have either the expected\n",
    "    # state value or 0 in case the state was final.\n",
    "    next_state_values = self.target_net(next_state_batch).max(1)[0].detach()\n",
    "\n",
    "    # Compute the expected Q values\n",
    "    expected_state_action_values = (next_state_values * self.gamma) + reward_batch\n",
    "\n",
    "    loss = self.criterion(state_action_values.squeeze(), expected_state_action_values)\n",
    "\n",
    "    # Optimize the model\n",
    "    self.optimizer.zero_grad()\n",
    "    loss.backward()\n",
    "    for param in self.policy_net.parameters():\n",
    "        param.grad.data.clamp_(-1, 1)\n",
    "    self.optimizer.step()\n",
    "    return loss.item()"
   ]
  },
  {
   "cell_type": "markdown",
   "metadata": {
    "id": "cM_U0uInAd9Z"
   },
   "source": [
    "### LSTM model for price prediction 💸"
   ]
  },
  {
   "cell_type": "markdown",
   "metadata": {
    "id": "ltHBPXgWJRLs"
   },
   "source": [
    "  В данном месте делается попытка обучить general purpose LSTM, для предсказания временных рядов на коротком интервале. Таким образом сеть должна уметь предсказывать значения получая на вход окно из 10-20 дней данных. Далее она будет использоваться как генератор признаков для DRQN агента, так как будет отражать поведение цены **ДЛЯ ЛЮБЫХ ТИКЕРОВ** на коротком интервале времени. \n",
    "  <br>В качестве датасета используются некоторое количество тикеров с S&P500, за определенный интервал времени."
   ]
  },
  {
   "cell_type": "markdown",
   "metadata": {
    "id": "H4LvvqOhyzBd"
   },
   "source": [
    "#### Dataset for general lstm"
   ]
  },
  {
   "cell_type": "code",
   "execution_count": null,
   "metadata": {
    "id": "YfZ8EyVoAWVi"
   },
   "outputs": [],
   "source": [
    "class StockDataset(Dataset):\n",
    "  def __init__(\n",
    "      self, \n",
    "      tickers=LSTM_tickers, \n",
    "      period=LSTM_period, \n",
    "      seq_len=LSTM_seq_len,\n",
    "      test_size=0.1,\n",
    "      train=True,\n",
    "  ):\n",
    "    super(StockDataset, self).__init__()\n",
    "    data = fin.download(\n",
    "        tickers = tickers, \n",
    "        period = period,\n",
    "        group_by = 'ticker'\n",
    "    )\n",
    "    self.data_raw = data\n",
    "    self.seq_len = seq_len\n",
    "    \n",
    "    train_slice = slice(0, int(data.shape[0] * (1 - test_size)) + 1) # + 1 because there is a need in last item for label\n",
    "    test_slice = slice(int(data.shape[0] * (1 - test_size) - self.seq_len), data.shape[0])\n",
    "\n",
    "    # get mean and std from dataset for train\n",
    "    self.all_logs = []\n",
    "    for ticker_ in tickers:\n",
    "      df = data.loc[:, ticker_][train_slice]\n",
    "      last_price = df.Close[0]\n",
    "      for value in df.Close:\n",
    "        self.all_logs.append(np.log(value / last_price))\n",
    "        last_price = value\n",
    "\n",
    "\n",
    "    self.mean = train_mean = np.mean(self.all_logs)\n",
    "    self.std = train_std = np.std(self.all_logs)\n",
    "\n",
    "    def log_iterator(dfs, tickers, seq_len, slice_):\n",
    "      for ticker_ in tickers:\n",
    "        df = dfs.loc[:, ticker_]\n",
    "        # times = df.index\n",
    "        closed = df.Close[slice_]\n",
    "\n",
    "        seq = deque()\n",
    "        last_price = closed[0]\n",
    "        for value in closed[1:seq_len + 1]:\n",
    "          log = np.log(value / last_price)\n",
    "          self.all_logs.append(log)\n",
    "          seq.append(log)\n",
    "          last_price = value\n",
    "        yield list(seq)[:-1], seq[-1]\n",
    "\n",
    "        for value in closed[seq_len + 1:]:\n",
    "          log = np.log(value / last_price)\n",
    "          seq.append(log)\n",
    "          last_price = value\n",
    "          seq.popleft()\n",
    "          yield list(seq)[:-1], seq[-1]\n",
    "\n",
    "    self.data = []\n",
    "    self.labels = []\n",
    "    for seq, label in log_iterator(data, tickers, seq_len, train_slice if train == True else test_slice):\n",
    "      self.data.append(seq)\n",
    "      self.labels.append(label)\n",
    "\n",
    "    self.data = ((torch.Tensor(self.data) - train_mean) / train_std).to(device).unsqueeze(-1)\n",
    "    self.labels = ((torch.Tensor(self.labels) - train_mean) / train_std).to(device)\n",
    "    self.labels = self.labels.unsqueeze(-1)\n",
    "    self.len = self.data.shape[0]\n",
    "\n",
    "  def __getitem__(self, idx):\n",
    "    return self.data[idx], self.labels[idx]\n",
    "\n",
    "  def __len__(self):\n",
    "    return self.len"
   ]
  },
  {
   "cell_type": "markdown",
   "metadata": {
    "id": "45ZHcKZRKaxg"
   },
   "source": [
    "Следующий участок кода посвящен созданию one-hot-encoding функции для преобразования данных из непрерывных величин к категориальным. Соответственно берется случайная величина $log(s_{i}/s_{i-1})$, (берется из датасета выше, она уже стандартизована), находятся значения ее перцентилей по 5 процентов на интервал. И по этим перцентилям при помощи способа one-hot-encoding данные дискретизируются. Например значение $s_i$ уже попадает в перцентиль значений 10, но не попадает в перцентиль 5 процентов, на графике можно это представить следующим образом: \n",
    "<br>![распределение OHE.drawio.png](data:image/png;base64,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)\n",
    "<br>И тогда данная величина будет закодирована следующим вектором:\n",
    "$$OHE(log(s_i/s_{i-1})) = [0, 1, 0, ..., 0]$$\n",
    "<br> код ниже выполняет поставленную цель"
   ]
  },
  {
   "cell_type": "code",
   "execution_count": null,
   "metadata": {
    "id": "t0bqaTQbUqW8"
   },
   "outputs": [],
   "source": [
    "# get the one hot encoder for logs\n",
    "\n",
    "def percentile_encoder_generator():\n",
    "  data = fin.download(\n",
    "        tickers = LSTM_tickers, \n",
    "        period = LSTM_period,\n",
    "        group_by = 'ticker'\n",
    "    )\n",
    "\n",
    "  # получение логарифмов отношения текущей цены к предыдущей\n",
    "  all_logs = []\n",
    "  for ticker_ in LSTM_tickers:\n",
    "    df = data.loc[:, ticker_]\n",
    "    # times = df.index\n",
    "    closed = df.Close\n",
    "\n",
    "    last_price = closed[0]\n",
    "    for value in closed[1:]:\n",
    "      all_logs.append(np.log(value / last_price))\n",
    "      last_price = value\n",
    "\n",
    "  all_logs = np.array(all_logs)\n",
    "  all_logs = (all_logs - all_logs.mean()) / all_logs.std()\n",
    "\n",
    "  # сам процесс дискретизации полученных логарифмов.\n",
    "  # get numbers for discretizising log values\n",
    "  percentiles = list(range(5, 100, 5))\n",
    "  percentile_values = np.percentile(all_logs, percentiles)\n",
    "  one_hot_encoder_size = percentile_values.shape[0]\n",
    "  percentile_values[-1] = 10\n",
    "  def percentile_encoder(x):\n",
    "    new_shape = list(x.shape)\n",
    "    new_shape[-1] = one_hot_encoder_size\n",
    "    eye = torch.eye(one_hot_encoder_size)[np.argmax(-x.cpu().numpy() + percentile_values > 0, axis=-1).flatten()]\n",
    "    encode = eye.reshape(new_shape)\n",
    "    return encode.to(device)\n",
    "  return percentile_encoder, percentile_values\n",
    "\n",
    "encoder, percentile_values = percentile_encoder_generator()\n",
    "\n",
    "# test encoder\n",
    "print(f\"Percentile values: {percentile_values}\")\n",
    "\n",
    "train_loader = DataLoader(StockDataset(), batch_size=LSTM_batch_size, shuffle=True)\n",
    "for i in islice(train_loader, 1):\n",
    "  print(f\"one-hot-encoded Tensor: {encoder(i[0])[0][:5]}\\n\\n for value: {i[0][0][:5]}\")"
   ]
  },
  {
   "cell_type": "markdown",
   "metadata": {
    "id": "dtHhY4e9y5Q-"
   },
   "source": [
    "#### Lightning for general LSTM"
   ]
  },
  {
   "cell_type": "markdown",
   "metadata": {
    "id": "wioY8MTgrYmL"
   },
   "source": [
    "For exploitation and research purposes, code for external LSTM learning is packed inside pytorch lightning module."
   ]
  },
  {
   "cell_type": "code",
   "execution_count": null,
   "metadata": {
    "id": "i7aLhA4aytXB"
   },
   "outputs": [],
   "source": [
    "class LSTMStock(nn.Module):\n",
    "  def __init__(self, feature_size, hidden_size):\n",
    "    super(LSTMStock, self).__init__()\n",
    "    self.feature_size = feature_size\n",
    "    self.hidden_size = hidden_size\n",
    "\n",
    "    self.rnn = nn.LSTM(feature_size, hidden_size, batch_first=True)\n",
    "    self.out = nn.Linear(hidden_size, feature_size)\n",
    "\n",
    "  def forward(self, input):\n",
    "    h, output = self.rnn(input)\n",
    "    output = output[0][0]\n",
    "    return self.out(output)\n",
    "\n",
    "class LitLSTM(pl.LightningModule):\n",
    "  def __init__(\n",
    "      self, \n",
    "      ohe,\n",
    "      feature_size=LSTM_feature_size, \n",
    "      hidden_size=LSTM_hidden):\n",
    "    super().__init__()\n",
    "    self.model = LSTMStock(feature_size, hidden_size)\n",
    "    self.criterion = nn.CrossEntropyLoss()\n",
    "    self.encoder = ohe\n",
    "\n",
    "  def training_step(self, batch, batch_idx):\n",
    "    x, y = (map(self.encoder, batch))\n",
    "    out = self.model(x)\n",
    "    loss = self.criterion(out, y)\n",
    "    self.log(\"train loss\", loss, on_step=True, on_epoch=True, prog_bar=True, logger=True)\n",
    "    return loss\n",
    "\n",
    "  def validation_step(self, batch, batch_idx):\n",
    "    x, y = (map(self.encoder, batch))\n",
    "    out = self.model(x)\n",
    "    loss = self.criterion(out, y)\n",
    "    self.log(\"val_loss\", loss)\n",
    "\n",
    "  def predict_step(self, batch, batch_idx):\n",
    "    x = (map(self.encoder, batch))\n",
    "    out = self.model(x)\n",
    "    return out\n",
    "\n",
    "  def configure_optimizers(self):\n",
    "    optimizer = torch.optim.Adam(self.parameters(), lr=1e-3)\n",
    "    # scheduler = \n",
    "    return optimizer"
   ]
  },
  {
   "cell_type": "markdown",
   "metadata": {
    "id": "7fE9l1vtzA6U"
   },
   "source": [
    "#### acquire model\n",
    "(model is already trained, code disabled)"
   ]
  },
  {
   "cell_type": "code",
   "execution_count": null,
   "metadata": {
    "id": "UKtYdrJ7y_9S"
   },
   "outputs": [],
   "source": [
    "# from pytorch_lightning.callbacks.early_stopping import EarlyStopping\n",
    "\n",
    "# model = LitLSTM(encoder)\n",
    "# train_loader = DataLoader(StockDataset(), batch_size=LSTM_batch_size, shuffle=True)\n",
    "# val_loader = DataLoader(StockDataset(train=False), batch_size=LSTM_batch_size, shuffle=True)\n",
    "\n",
    "# # Можно добавить ерли стопинг, но он плохо работает в данной задаче, потому что обучение не стабильно.\n",
    "# trainer = pl.Trainer(max_epochs=20, default_root_dir=model_checkpoint_path, accelerator=\"gpu\", devices=1)#, callbacks=[EarlyStopping(monitor=\"val_loss\", mode=\"min\")])\n",
    "# trainer.fit(model, train_loader, val_loader)"
   ]
  },
  {
   "cell_type": "code",
   "execution_count": null,
   "metadata": {
    "id": "CbmidTiKGDtT"
   },
   "outputs": [],
   "source": [
    "# trainer.validate(model, val_loader)"
   ]
  },
  {
   "cell_type": "markdown",
   "metadata": {
    "id": "Gxz-ZCxJwPb0"
   },
   "source": [
    "Ниже можно подключить TensorBoard для просмотра результатов тренировки в онлайне."
   ]
  },
  {
   "cell_type": "code",
   "execution_count": null,
   "metadata": {
    "id": "QO4fAsGo1srr"
   },
   "outputs": [],
   "source": [
    "# # Load the TensorBoard notebook extension\n",
    "# %reload_ext tensorboard\n",
    "# %tensorboard --logdir '/tmp/'"
   ]
  },
  {
   "cell_type": "markdown",
   "metadata": {
    "id": "jGB4Wf1g1Hs_"
   },
   "source": [
    "#### load model"
   ]
  },
  {
   "cell_type": "code",
   "execution_count": null,
   "metadata": {
    "id": "zuOueMGG1Cr8"
   },
   "outputs": [],
   "source": [
    "# validate if model is loadeble\n",
    "model = LitLSTM(encoder)\n",
    "version_number = 0\n",
    "if os.path.exists(general_lstm_checkpoint):\n",
    "  checkpoint = torch.load(general_lstm_checkpoint)\n",
    "  model.load_state_dict(checkpoint[\"state_dict\"])"
   ]
  },
  {
   "cell_type": "markdown",
   "metadata": {
    "id": "dlBM7r5ioiFP"
   },
   "source": [
    "#### model eval"
   ]
  },
  {
   "cell_type": "code",
   "execution_count": null,
   "metadata": {
    "id": "YJCmLQ_uzlue"
   },
   "outputs": [],
   "source": [
    "class SimpleLSTMDataset(Dataset):\n",
    "  def __init__(\n",
    "      self, \n",
    "      ticker=ticker, \n",
    "      period=LSTM_period, \n",
    "      seq_len=LSTM_seq_len,\n",
    "      test_size=0.1,\n",
    "      train=True,\n",
    "  ):\n",
    "    super(StockDataset, self).__init__()\n",
    "    self.data_raw = fin.Ticker(ticker).history(period=period)\n",
    "    self.seq_len = seq_len\n",
    "    \n",
    "    train_slice = slice(0, int(self.data_raw.shape[0] * (1 - test_size)))\n",
    "    test_slice = slice(int(self.data_raw.shape[0] * (1 - test_size)) - self.seq_len, self.data_raw.shape[0])\n",
    "    self.data_slice = train_slice if train == True else test_slice\n",
    "\n",
    "    # get mean and std from dataset for train\n",
    "    self.all_logs = []\n",
    "    closed = self.data_raw.Close[train_slice]\n",
    "    last_price = closed[0]\n",
    "    for value in closed[1:]:\n",
    "      self.all_logs.append(np.log(value / last_price))\n",
    "      last_price = value\n",
    "\n",
    "    # рассчитаем среднее и стандартное отклонение на тренировочной выборке\n",
    "    self.mean = np.mean(self.all_logs)\n",
    "    self.std = np.mean(self.all_logs)\n",
    "\n",
    "    def log_iterator(df, seq_len, slice_):\n",
    "      '''\n",
    "      helps to iterate through dataframe, generating items of resulting\n",
    "      dataset values (in this case this is concatenated one-hot-encoded values\n",
    "      of current log, and prediction of LSTM for this log, which represents \n",
    "      the next value)\n",
    "      '''\n",
    "      times = df.index[slice_]\n",
    "      closed = df.Close[slice_]\n",
    "\n",
    "      seq = deque()\n",
    "      last_price = closed[0]\n",
    "      for time, value in zip(times[1:seq_len + 2], closed[1:seq_len + 2]):\n",
    "        log = (np.log(value / last_price) - self.mean) / self.std\n",
    "        seq.append(log)\n",
    "        last_price = value\n",
    "      yield list(seq), list(seq)[-1]\n",
    "\n",
    "      for time, value in zip(times[seq_len + 2:], closed[seq_len + 2:]):\n",
    "        log = (np.log(value / last_price) - self.mean) / self.std\n",
    "        seq.append(log)\n",
    "        last_price = value\n",
    "        seq.popleft()\n",
    "        yield list(seq), list(seq)[-1]\n",
    "\n",
    "    self.data = []\n",
    "    self.labels = []\n",
    "    for seq, label in log_iterator(self.data_raw, seq_len, train_slice if train == True else test_slice):\n",
    "      self.data.append(seq)\n",
    "      self.labels.append(label)\n",
    "\n",
    "    self.data = torch.Tensor(self.data).to(device).unsqueeze(-1)\n",
    "    self.labels = torch.Tensor(self.labels).to(device)\n",
    "    self.labels = self.labels.unsqueeze(-1)\n",
    "    self.len = self.data.shape[0]\n",
    "\n",
    "  def __getitem__(self, idx):\n",
    "    return self.data[idx], self.labels[idx]\n",
    "\n",
    "  def __len__(self):\n",
    "    return self.len"
   ]
  },
  {
   "cell_type": "code",
   "execution_count": null,
   "metadata": {
    "id": "H-lsAavJpQ7G"
   },
   "outputs": [],
   "source": [
    "model.model.to(device)"
   ]
  },
  {
   "cell_type": "code",
   "execution_count": null,
   "metadata": {
    "id": "erL5GH2T4c8H"
   },
   "outputs": [],
   "source": [
    "test_loader = DataLoader(StockDataset(train=False), batch_size=LSTM_batch_size, shuffle=True)\n",
    "yhat = torch.zeros((0)).to(device)\n",
    "y = torch.zeros((0)).to(device)\n",
    "for batch_idx, batch in enumerate(islice(test_loader, 1)):\n",
    "  y = torch.cat((y, torch.argmax(model.encoder(batch[1]), axis=-1).squeeze()))\n",
    "  # print(torch.argmax(model.model(model.encoder(batch[0])), axis=-1))\n",
    "  # print(torch.argmax(model.encoder(batch[1]), axis=-1))\n",
    "  yhat = torch.cat((yhat, torch.argmax(model.model(model.encoder(batch[0])), axis=-1)))\n",
    "\n",
    "plt.subplots(figsize=(30, 9))\n",
    "plt.plot(y.detach().cpu(), label=\"y_true\")\n",
    "plt.plot(yhat.detach().cpu(), label=\"y_predicted\")\n",
    "plt.legend()"
   ]
  },
  {
   "cell_type": "markdown",
   "metadata": {
    "id": "XfylpGjImH2c"
   },
   "source": [
    " ### Environment definition 🌳"
   ]
  },
  {
   "cell_type": "markdown",
   "metadata": {
    "id": "mdNfOxwC_wb2"
   },
   "source": [
    "Данные будут предобрабатываться следующий образом: на диаграмме, $\\widehat{close_{i+1}}$ - не известны на текущем шаге, и для их аппроксимации используется внешная general purpose LSTM. \n",
    "\n",
    "![диаграмма предобработки данных.drawio.png](data:image/png;base64,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)"
   ]
  },
  {
   "cell_type": "code",
   "execution_count": null,
   "metadata": {
    "id": "ZNL6fmY38W-g"
   },
   "outputs": [],
   "source": [
    "class Env():\n",
    "  def __init__(\n",
    "      self,\n",
    "      ticker=ticker, \n",
    "      period=period, \n",
    "      seq_len=seq_len, \n",
    "      gamma=discount, \n",
    "      portfolio=initial_sum, \n",
    "      trading_size=trading_size,\n",
    "      test_size=0,\n",
    "      test=False,\n",
    "      LSTM_fe_location=general_lstm_checkpoint,\n",
    "      gamma_trading=0.5, \n",
    "      use_CC = False,\n",
    "    ):\n",
    "    # Possible place for adding some technical indicators\n",
    "    # time and action features (source)[https://github.com/conditionWang/DRQN_Stock_Trading]\n",
    "    self.data_raw = fin.Ticker(ticker).history(period=period)\n",
    "    self.gamma_trading=gamma_trading\n",
    "    self.initial_sum = initial_sum\n",
    "    self.portfolio = [initial_sum]\n",
    "    self.trading_size = trading_size\n",
    "    self.seq_len = seq_len\n",
    "    self.spread = 0.005\n",
    "    self.gamma = gamma\n",
    "    self.pointer = 0\n",
    "    self.test_size = test_size\n",
    "    self.test = test\n",
    "    self.ticker = ticker\n",
    "    self.period = period\n",
    "    self.use_CC = use_CC\n",
    "\n",
    "# Part for feature extractor\n",
    "    # get one hot encoder for logs:\n",
    "    ohe, percentile_values = percentile_encoder_generator()\n",
    "    \n",
    "    # по сути внешняя LSTM выступает генератором фичей для этой.\n",
    "    # load feature extractor lstm\n",
    "    model = LitLSTM(ohe=ohe)\n",
    "    version_number = 0\n",
    "    if os.path.exists(LSTM_fe_location):\n",
    "      checkpoint = torch.load(LSTM_fe_location)\n",
    "      model.load_state_dict(checkpoint[\"state_dict\"])\n",
    "    else:\n",
    "      raise \"Not found checkpoint\"\n",
    "\n",
    "    train_slice = slice(0, int(self.data_raw.shape[0] * (1 - test_size)))\n",
    "    test_slice = slice(int(self.data_raw.shape[0] * (1 - test_size)) - self.seq_len, self.data_raw.shape[0])\n",
    "   \n",
    "    # get mean and std from dataset for train\n",
    "    self.all_logs = []\n",
    "    closed = self.data_raw.Close[train_slice]\n",
    "    last_price = closed[0]\n",
    "    for value in closed[1:]:\n",
    "      self.all_logs.append(np.log(value / last_price))\n",
    "      last_price = value\n",
    "\n",
    "    # рассчитаем среднее и стандартное отклонение на тренировочной выборке\n",
    "    self.mean = np.mean(self.all_logs)\n",
    "    self.std = np.mean(self.all_logs)\n",
    "\n",
    "    # получаем полную выборку всех логов, для скармливания в нейронную сеть\n",
    "    self.all_logs = []\n",
    "    closed = self.data_raw.Close\n",
    "    last_price = closed[0]\n",
    "    for value in closed[1:]:\n",
    "      self.all_logs.append(np.log(value / last_price))\n",
    "      last_price = value\n",
    "    # size(self.all_logs) == [n, ] - обычный массив с логарифмами значений\n",
    "\n",
    "    # нормализуем выборку\n",
    "    self.all_logs = np.array(self.all_logs)\n",
    "    self.all_logs = (self.all_logs - self.all_logs.mean()) / self.all_logs.std()\n",
    "\n",
    "    # получаем признаки из нейронной сети для предсказания короткой торговли\n",
    "    data_for_lstm = []\n",
    "    for i in range(LSTM_seq_len, self.all_logs.shape[0] + 1):\n",
    "      data_for_lstm.append(self.all_logs[i - LSTM_seq_len:i])\n",
    "\n",
    "    # data_for_lstm.shape == (n - LSTM_seq_len, LSTM_seq_len, )\n",
    "    data_for_lstm = torch.Tensor(data_for_lstm).unsqueeze(-1)\n",
    "    # data_for_lstm.shape == (1, n - LSTM_seq_len, LSTM_seq_len,)\n",
    "\n",
    "    model.model.to(device) #  переводим модель на куду если она enable\n",
    "    results = nn.functional.softmax(model.model(ohe(data_for_lstm)), dim=-1)\n",
    "    results = results.cpu().detach().numpy()\n",
    "    results = np.concatenate((np.zeros((LSTM_seq_len, LSTM_feature_size)), results), axis=0)\n",
    "    self.lstm_features = results\n",
    "    # Получеаем значения, предсказанные General Purpose LSTM для наших данных.\n",
    "\n",
    "    # self.lstm_features.shape == (self.data_raw.Close.shape[0], LSTM_feature_size)\n",
    "    # for every closed price lstm feature is generated\n",
    "# Part for feature extractor\n",
    "\n",
    "    def log_iterator(df, lstm_features, seq_len, slice_):\n",
    "      '''\n",
    "      helps to iterate through dataframe, generating items of resulting\n",
    "      dataset values (in this case this is concatenated one-hot-encoded values\n",
    "      of current log, and prediction of LSTM for this log, which represents \n",
    "      the next value)\n",
    "      '''\n",
    "      # задача этого куска кода сделать удобным трансформацию датафрейма, состоящего\n",
    "      # из close прайсов на каждый день, в следующий формат:\n",
    "      # lstm_feature = ([0,..,1,0,...0, 0,..,1,0,...0]) == [(ohe от log), (features из GP LSTM (тоже ohe, но для следующего log))]\n",
    "      # На вход нашей сети, следовательно мы должны подавать [lstm_feature_(-n), lstm_feature_(-n + 1), ..., lstm_feature_(0)], размерностью [n, 20 + 20 (ohe от 2 значений)]\n",
    "\n",
    "      times = df.index[slice_]\n",
    "      closed = df.Close[slice_]\n",
    "      lstm_features = lstm_features[slice_]\n",
    "\n",
    "      seq = deque()\n",
    "      last_price = closed[0]\n",
    "      for time, value, feature in zip(times[1:seq_len + 1], closed[1:seq_len + 1], lstm_features[1:seq_len + 1]):\n",
    "        log = (np.log(value / last_price) - self.mean) / self.std\n",
    "        seq.append(np.hstack((ohe(torch.tensor([log])).cpu(), feature)))\n",
    "        # np.hstack((ohe(torch.tensor([log])).cpu(), feature)) ====> [lstm_feature_(-n), lstm_feature_(-n + 1), ..., lstm_feature_(0)]\n",
    "        last_price = value\n",
    "      yield list(seq)\n",
    "\n",
    "      for time, value, feature in zip(times[seq_len + 1:-1], closed[seq_len + 1:-1], lstm_features[seq_len + 1:-1]):\n",
    "        log = (np.log(value / last_price) - self.mean) / self.std\n",
    "        seq.append(np.hstack((ohe(torch.tensor([log])).cpu(), feature)))\n",
    "        last_price = value\n",
    "        seq.popleft()\n",
    "        # тут мы как раз отдаем [lstm_feature_(-n), lstm_feature_(-n + 1), ..., lstm_feature_(0)]\n",
    "        yield list(seq)\n",
    "\n",
    "    self.data = []\n",
    "    for seq in log_iterator(self.data_raw, self.lstm_features, self.seq_len, train_slice if test == False else test_slice):\n",
    "      self.data.append(seq)\n",
    "\n",
    "    # в self.data мы имеем полученный датасет.\n",
    "    self.data = torch.Tensor(self.data)\n",
    "    self.data = self.data.to(device)\n",
    "    self.closed = self.data_raw.Close[train_slice if test == False else test_slice]\n",
    "    self.len = self.data.shape[0]\n",
    "\n",
    "  def step(self, action, CC):\n",
    "    \"\"\"returns reward r\"\"\"\n",
    "    actions = [-1, 0, 1]\n",
    "    a = actions[action]\n",
    "    v_old = self.portfolio[-1]\n",
    "\n",
    "    current_closed = self.closed[self.pointer + self.seq_len - 1]\n",
    "    next_closed = self.closed[self.pointer + self.seq_len]\n",
    "\n",
    "    \n",
    "    v_new = 0\n",
    "    if self.use_CC: # проверка использования коэффициента уверенности, использование может затруднить обучение\n",
    "      step = a * CC * self.gamma_trading * v_old\n",
    "      v_new = v_old - step + step * next_closed / current_closed# - commission\n",
    "    else:\n",
    "      v_new = v_old - a * self.trading_size + a * self.trading_size * next_closed / current_closed# - commission\n",
    "\n",
    "    if v_new * v_old > 0:\n",
    "      reward = np.log(v_new / v_old)\n",
    "    else:\n",
    "      reward = -1\n",
    "    self.portfolio.append(v_new)\n",
    "    return reward\n",
    "\n",
    "  def reset(self):\n",
    "    self.pointer = 0\n",
    "    self.portfolio = [self.initial_sum]\n",
    "\n",
    "  def get_next(self):\n",
    "    \"\"\"returns next state s' \"\"\"\n",
    "    if self.pointer < self.len:\n",
    "      next = self.data[self.pointer]\n",
    "      self.pointer += 1\n",
    "      return next\n",
    "    else:\n",
    "      return None"
   ]
  },
  {
   "cell_type": "markdown",
   "metadata": {
    "id": "9mCsCT4OoVtX"
   },
   "source": [
    "### Main training cicle"
   ]
  },
  {
   "cell_type": "markdown",
   "metadata": {
    "id": "O5PsgWdouTfM"
   },
   "source": [
    "##### Function for training"
   ]
  },
  {
   "cell_type": "code",
   "execution_count": null,
   "metadata": {
    "id": "homA-tIzDAsi"
   },
   "outputs": [],
   "source": [
    "def train_model():\n",
    "  agent = Agent()\n",
    "  train_env = Env(test_size=test_size)\n",
    "  test_env = Env(test_size=test_size, test=True)\n",
    "  agent.set_decay(train_env.len * 10)\n",
    "\n",
    "  best_portfolio = [0]\n",
    "  iter = 0\n",
    "  for t in (range(400)):\n",
    "    agent.set_eval(False)\n",
    "    train_env.reset()\n",
    "    actions = []\n",
    "    loss = []\n",
    "    rewards = []\n",
    "    current_state = train_env.get_next()\n",
    "    next_state = current_state\n",
    "    with tqdm(range(1, train_env.len)) as pbar:\n",
    "      pbar.set_description(f\"Train episode {t}\")\n",
    "      for i in pbar:\n",
    "        iter += 1\n",
    "        action, confidence = agent.act(current_state)\n",
    "        actions.append(action)\n",
    "        rewards.append(train_env.step(action, confidence))\n",
    "        next_state = train_env.get_next()\n",
    "        agent.store(current_state, action, next_state, rewards[-1])\n",
    "        loss.append(agent.optimize())\n",
    "\n",
    "        current_state = next_state\n",
    "        if i % ((train_env.len - train_env.seq_len) // 10) == 0:\n",
    "          pbar.set_postfix(loss=loss[-1], reward=rewards[-1], portfolio=train_env.portfolio[-1], actions=Counter(actions))\n",
    "        if iter % policy_to_target_step == 0:\n",
    "          agent.policy_to_target()\n",
    "\n",
    "      if loss[0] is None:\n",
    "        loss = loss[batch_size:]\n",
    "      pbar.set_postfix(loss_sum=np.sum(loss), reward_sum=np.sum(rewards), portfolio=train_env.portfolio[-1], actions=Counter(actions))\n",
    "\n",
    "    agent.opt_scheduler.step()\n",
    "\n",
    "    if (t + 1) % 10 == 0: # каждые 10 итераций сохраняем стейт модели\n",
    "      print(\"progress saved\")\n",
    "      torch.save(agent.policy_net.to('cpu').state_dict(), model_checkpoint_path + f\"policy_net_cpu{ticker}_{period}_{hidden_size}.pkl\")\n",
    "      torch.save(agent.policy_net.to(device).state_dict(), model_checkpoint_path + f\"policy_net_gpu{ticker}_{period}_{hidden_size}.pkl\")\n",
    "      torch.save(agent.optimizer.state_dict(), model_checkpoint_path + f\"optimizer{ticker}_{period}_{hidden_size}.pkl\")\n",
    "\n",
    "    if best_portfolio[-1] < train_env.portfolio[-1]:  # если модель сделала наибольшее портфолио, сохраняем ее с меткой лучшая.\n",
    "      # if results are the best, then save current version of network\n",
    "      best_portfolio = train_env.portfolio\n",
    "      torch.save(agent.policy_net.to('cpu').state_dict(), model_checkpoint_path + f\"best_policy_net_cpu{ticker}_{period}_{hidden_size}.pkl\")\n",
    "      torch.save(agent.policy_net.to(device).state_dict(), model_checkpoint_path + f\"best_policy_net_gpu{ticker}_{period}_{hidden_size}.pkl\")\n",
    "      torch.save(agent.optimizer.state_dict(), model_checkpoint_path + f\"best_optimizer{ticker}_{period}_{hidden_size}.pkl\")\n",
    "\n",
    "    # test agent\n",
    "    if (t + 1) % 5 == 0:\n",
    "      agent.set_eval(True)\n",
    "      test_env.reset()\n",
    "      actions = []\n",
    "      rewards = []\n",
    "      current_state = test_env.get_next()\n",
    "      next_state = current_state\n",
    "      with tqdm(range(1, test_env.len)) as pbar:\n",
    "        pbar.set_description(\"Test\")\n",
    "        for i in pbar:\n",
    "        # while next_state is not None:\n",
    "          action, confidence = agent.act(current_state)\n",
    "          actions.append(action)\n",
    "          rewards.append(test_env.step(action, confidence))\n",
    "          next_state = test_env.get_next()\n",
    "\n",
    "          current_state = next_state\n",
    "          if i % (test_env.len // 3) == 0:\n",
    "            pbar.set_postfix(reward=rewards[-1], portfolio=test_env.portfolio[-1], actions=Counter(actions))\n",
    "        pbar.set_postfix(reward_sum=np.sum(rewards), portfolio=train_env.portfolio[-1], actions=Counter(actions))"
   ]
  },
  {
   "cell_type": "markdown",
   "metadata": {
    "id": "NxKmvrURuYD8"
   },
   "source": [
    "##### Training"
   ]
  },
  {
   "cell_type": "code",
   "execution_count": null,
   "metadata": {
    "id": "psfZCWGMiueh"
   },
   "outputs": [],
   "source": [
    "train_model()"
   ]
  },
  {
   "cell_type": "markdown",
   "metadata": {
    "id": "Rxi7qeH3KW8x"
   },
   "source": [
    "### Model Evaluation"
   ]
  },
  {
   "cell_type": "markdown",
   "metadata": {
    "id": "AfjcG6qaJB-E"
   },
   "source": [
    "#### function for evaluation"
   ]
  },
  {
   "cell_type": "code",
   "execution_count": null,
   "metadata": {
    "id": "E235EKhEo3jv"
   },
   "outputs": [],
   "source": [
    "def eval_models(ticker_, period_, chk_pth = None):\n",
    "  ''' \n",
    "      train/eval stage specific variables\n",
    "    \n",
    "      v    v   v          v    v  \n",
    "    AAPL AMD AMZN GOOGL META MSFT XOM \n",
    "    3y   3y  4y   3y    4y   2y   8y\n",
    "\n",
    "    models that have been yet trained are marked by v symbol\n",
    "\n",
    "    change underlying variables to load and eval proper models\n",
    "  '''\n",
    "\n",
    "  list_of_trades = defaultdict(list)\n",
    "  list_of_trades[\"cum_profit\"].append(initial_sum) # simple hack for simplicity\n",
    "\n",
    "  # Загрузка агента\n",
    "  agent = Agent()\n",
    "  if chk_pth == None:\n",
    "    chk_pth = artifacts_path + f\"{ticker_}_{period_}_{hidden_size}.pkl\"\n",
    "  agent.policy_net.load_state_dict(torch.load(chk_pth))\n",
    "  agent.policy_to_target()\n",
    "  agent.policy_net.to(device)\n",
    "  agent.set_eval(True)\n",
    "\n",
    "  # установка двух env (тренировочного и тестового). Можно установить 1 env, с test_size=0\n",
    "  # Для отображения полного интервала торговли, но это сместит mean и std значения,\n",
    "  # На которых училась сеть, что возможно дестабилизирует обучени.\n",
    "  train_env = Env(ticker=ticker_, period=period_, test_size=test_size)\n",
    "  test_env = Env(ticker=ticker_, period=period_, test_size=test_size, test=True)\n",
    "\n",
    "  counter = 0\n",
    "  actions = []\n",
    "  # проходимся по каждому env, собирая статистику как работает агент на train и test\n",
    "  for env in (train_env, test_env):\n",
    "    env.reset()\n",
    "    rewards = []\n",
    "    with tqdm(range(0, env.len)) as pbar:\n",
    "      pbar.set_description(f\"test\")\n",
    "      for i in pbar:\n",
    "        # стандартная работа с агентом и env\n",
    "        current_state = env.get_next()\n",
    "        action, confidence = agent.act(current_state)\n",
    "        actions.append(action)\n",
    "        rewards.append(env.step(action, confidence))\n",
    "\n",
    "        # Заполняем list of trades\n",
    "        list_of_trades[\"time\"].append(env.data_raw.index.to_numpy()[env.seq_len - 1 + counter])\n",
    "        list_of_trades[\"action\"].append([\"sell\", \"hold\", \"buy\"][action])\n",
    "        list_of_trades[\"price\"].append(env.closed[env.pointer + env.seq_len - 1])\n",
    "        list_of_trades[\"cum_profit\"].append(env.portfolio[-1])\n",
    "        list_of_trades[\"profit\"].append(env.portfolio[-1] - env.portfolio[-2])\n",
    "        list_of_trades[\"confidence\"].append(confidence)\n",
    "        counter += 1\n",
    "\n",
    "        if i % 100 == 0:\n",
    "          pbar.set_postfix(reward=rewards[-1], portfolio=env.portfolio[-1], actions=Counter(actions))\n",
    "      pbar.set_postfix(reward=rewards[-1], portfolio=env.portfolio[-1], actions=Counter(actions))\n",
    "    actions.append(1)\n",
    "\n",
    "  list_of_trades[\"cum_profit\"] = list_of_trades[\"cum_profit\"][1:]\n",
    "\n",
    "  # Тут довольно сложная логика построения графика\n",
    "  fig, ax = plt.subplots(1, 3, figsize=(30, 20))\n",
    "\n",
    "  plt.subplot(211)\n",
    "  actions_np = np.array(actions)\n",
    "  actions_to_close = np.array([train_env.data_raw.Close.to_numpy()[train_env.seq_len - 1: -1], np.arange(len(actions))])\n",
    "  actions_to_close[:, actions_np == 1]\n",
    "  plt.title(\"Actions taken on ticker\", fontsize=20)\n",
    "  plt.plot(actions_to_close[1], actions_to_close[0])\n",
    "  plt.scatter(actions_to_close[1, actions_np == 0], actions_to_close[0, actions_np == 0], color='r', marker='v', s=20)\n",
    "  plt.scatter(actions_to_close[1, actions_np == 2], actions_to_close[0, actions_np == 2], color='g', marker='^', s=20)\n",
    "\n",
    "  border_line = ([train_env.len] * 2, [actions_to_close[0].max(), actions_to_close[0].min()])\n",
    "  plt.plot(*border_line, 'k--', label='Train test split')\n",
    "  plt.legend(prop={\"size\":20})\n",
    "\n",
    "  plt.subplot(223)\n",
    "  plt.title(\"Portfolio size on train\", fontsize=20)\n",
    "  plt.plot(train_env.portfolio)\n",
    "\n",
    "  plt.subplot(224)\n",
    "  plt.title(\"Portfolio size on test\", fontsize=20)\n",
    "  plt.plot(test_env.portfolio)\n",
    "\n",
    "  plt.savefig(f\"{ticker_}_{period_}_{hidden_size}.svg\", format=\"svg\")\n",
    "\n",
    "  # Здесь расположен вывод List of trades\n",
    "  lot = pd.DataFrame(list_of_trades)\n",
    "\n",
    "  # смысл этой величины в том, что модель с большей уверенностью должна делать предсказания с большой выгодой,\n",
    "  # и с меньшей уверенностью предсказания с большим риском. Возможно я что то считаю не правильно, \n",
    "  # Но насколько я понимаю, хорошим показателем работы моего алгоритма является \n",
    "  # то, что эта взвешенная сумма должна быть больше кумулитивного профита за все время.\n",
    "  print(f\"Weighted sum of incomes = {(lot.profit.iloc[:-201] * lot.confidence.iloc[:-201]).sum()}\")\n",
    "  display(lot)"
   ]
  },
  {
   "cell_type": "markdown",
   "metadata": {
    "id": "eL3QdQD7JGFA"
   },
   "source": [
    "#### evaluation"
   ]
  },
  {
   "cell_type": "code",
   "execution_count": null,
   "metadata": {
    "id": "Bo6ERvJoHTRn"
   },
   "outputs": [],
   "source": [
    "''' \n",
    "train/eval stage specific variables\n",
    "\n",
    " v    v   v     v    v    v  \n",
    "AAPL AMD AMZN GOOGL META MSFT XOM \n",
    "3y   3y  4y   3y    4y   2y   8y\n",
    "\n",
    "models that have been yet trained are marked by v symbol\n",
    "\n",
    "change underlying variables to load and eval proper models\n",
    "'''\n",
    "\n",
    "# В данном примере, сначала была натринирована нейронка под данный тикер. Ее\n",
    "# артифакты были сложены в папку, указанную ниже как аргумент chk_pth.\n",
    "eval_ticker = \"LRCX\"\n",
    "eval_period = \"4y\"\n",
    "eval_models(eval_ticker, eval_period, chk_pth=model_checkpoint_path + f\"best_policy_net_cpu{eval_ticker}_{eval_period}_{hidden_size}.pkl\")\n",
    "# Можно конфигурировать chk_pth для агента, но если он не задан, то выберется из\n",
    "# скачанных с гита, и если там нет, то кинет експешн. Чекпоинт должен быть в cpu векторе."
   ]
  }
 ],
 "metadata": {
  "accelerator": "GPU",
  "colab": {
   "collapsed_sections": [
    "_8oUhq8FRoZN",
    "_JVDhsmEuIMb",
    "uhqaCMxlSHiT",
    "H4LvvqOhyzBd",
    "dtHhY4e9y5Q-",
    "7fE9l1vtzA6U",
    "jGB4Wf1g1Hs_",
    "dlBM7r5ioiFP",
    "XfylpGjImH2c",
    "O5PsgWdouTfM",
    "NxKmvrURuYD8"
   ],
   "provenance": []
  },
  "gpuClass": "standard",
  "kernelspec": {
   "display_name": "Python 3 (ipykernel)",
   "language": "python",
   "name": "python3"
  },
  "language_info": {
   "codemirror_mode": {
    "name": "ipython",
    "version": 3
   },
   "file_extension": ".py",
   "mimetype": "text/x-python",
   "name": "python",
   "nbconvert_exporter": "python",
   "pygments_lexer": "ipython3",
   "version": "3.10.2"
  },
  "vscode": {
   "interpreter": {
    "hash": "1682e5d06a6d97c1b1cf6bb4ae6cf16223e994936ddb1d53664597d7d46101fa"
   }
  }
 },
 "nbformat": 4,
 "nbformat_minor": 1
}
